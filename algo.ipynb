{
 "cells": [
  {
   "cell_type": "markdown",
   "metadata": {},
   "source": [
    "# TMAC CAPITAL MOMENTUM TRADING STRATEGY"
   ]
  },
  {
   "cell_type": "markdown",
   "metadata": {},
   "source": [
    "### Thomas McDonnell, Benjamin Panovich and Elie Kostenbaum"
   ]
  },
  {
   "cell_type": "markdown",
   "metadata": {},
   "source": [
    "***"
   ]
  },
  {
   "cell_type": "markdown",
   "metadata": {},
   "source": [
    "## INVESTMENT HYPOTHESIS AND GOALS"
   ]
  },
  {
   "cell_type": "markdown",
   "metadata": {},
   "source": [
    "By using a momentum transformer model to predict when stocks are in uptrends and taking positions based on these predictions (buying when the model predicts a trend, and selling when it predicts the end of a trend), we can achieve excess returns above the benchmark. There are two key assumptions that will make this trading strategy profitable. The first is the assumption that equity trends exist. Our model capitalizes on the assumption that these trends exist and can be capitalized on to make profit. The second assumption is that our transformer model is accurate. It is key to have extensive model testing and validation of the model before using it in a live trading situation, as previous results could be due to overfitting of the model.\n",
    "\n",
    "The investment universe will consist of a vast array of \"big-name\" equities: Google, Microsoft, American Airlines, Apple, Ford, General Motors, etc. These equities were chosen as they are extremely liquid, even in large positions that we will be taking, and there is very accurate and available historical data. Hypothetically, if trained with the correct data, this transformer model could be used on any timeseries set of data for any asset class. The transformer will produce daily trade signals and so the portfolio will be very actively managed (algorithmically) and there will be constant buying and selling. Transaction fees will be calculated as 0.0020$ per share as that is how much Interactive Brokers pro account charges per share when trading between 300,000 and 3,000,000 shares per month. The back testing period will be between 2020-01-01 and 2023-07-01. The benchmark for this strategy will simply be the S&P 500 as all of the equities in which we are investing are in the index, and it is an example of a more passive rebalancing of the S&P portfolio\n",
    "\n",
    "The transformer model was created using Keras and TensorFlow with an Adam optimizer and a binary-cross entropy loss function. This is the ideal transformer framework when dealing with binary model output. To ensure accuracy of the model and lack of overfitting, instead of inputting price data we input stock returns, and standardized each return by subtracting the mean and dividing by the standard deviation. The data that is input into the transformer is a large array, where each data point is an array itself of the previous 10 days of standardized returns, with the dependent variable being a 1 or 0 corresponding to whether the equity is in an uptrend or not. \n",
    "\n",
    "One of the key aspects of this strategy is how to define a trend. For the initial phase of this trading strategy, we will only focus on uptrends to avoid shorting costs. The chosen way for our model is to define two moving averages (short and long), and when the short moving average has a certain amount of consecutive days in a row being higher than the long average, the stock is in a trend. The specific numbers used for our current model is a 10 day moving average and a 50 day moving average, and when the 10 day has 15 consecutive days in a row where it is higher than the 50 day moving average, the stock is said to be in a trend. By defining a trend this way, a large dataset was created with years of stock prices for our 12 different equities, and a trend column for each equity that is either a 1 (stock in a trend) or a 0 (stock not in a trend). After standardizing and manipulating it as mentioned above, the data is ready to train the model.\n",
    "\n",
    "The way to use this model in our trading strategy is simple: buy when there is a trend prediction and sell when the trend prediction is over. Using data from our back testing period, we will input standardized returns and the model will predict whether the stock will be in a trend tomorrow, or whether there will be no trend. By doing this all at once we create a large dataset of trade signals without any forward looking bias, as the only data it has processed is the data up until the trading day. -1 signals (sells) will be created when the model no longer predicts a trend after previous day(s) of predicting a trend. If one wanted to take the strategy forwards, one could have 3 outputs of the model, 1, 0 and -1 for upwards trend, no trend and downwards trend. For now, we are only focusing on upward trends, so every sell signal will always be created after a buy signal. The initial capital for the back test will be 10,000,000$, and each equity will have 1/(amount of tickers + 5) (+5 to ensure if we have big position swings that we never have negative cash) of which it is allotted. Each trade will be the size of the entire capital allotted to the equity.\n"
   ]
  },
  {
   "cell_type": "markdown",
   "metadata": {},
   "source": [
    "# OPTIMIZATION"
   ]
  },
  {
   "cell_type": "markdown",
   "metadata": {},
   "source": [
    "When looking to optimize a portfolio, there are many variables to consider. Some may argue that optimizing total return is the best, others may argue that it is minimizing variance, so for our strategy we will optimize at a mid point, sharpe ratio. It is important to generate alpha but optimizing on return will bring up potential trouble in a live trading session as the model may make super high variance trades. By maximizing our sharpe ratio we will insure that our model is looking to generate trades that produce alpha yet don't make our portfolio extremely variable.\n",
    "\n",
    "There are many parameters in our deep learning model along with trend parameters on which we must optimize. For the model, the framework parameters have been set yet the amount of epochs and batch size can be optimized. Along with the deep learning parameters, we have our moving average parameters for trend definition. Below is a table of our parameters on which to optimize, what the range is, and what their step size is.\n",
    "\n",
    "\n",
    "| Variable | Range    |\n",
    "|----------|----------|\n",
    "| Epochs   | [5, 10, 15]   |\n",
    "| batch size   | [16, 32, 64, 128] |\n",
    "| short MA | [5, 10, 15] |\n",
    "| long MA | [40, 45, 50, 55, 60]|\n",
    "\n",
    "The optimization method that we will use is a random search. Ideally, a grid search would be conducted to try every possible combination of parameters, yet with 180 total combinations of parameters and a computationally expensive model, it will take too much time. A random search will be conducted using 30 random combinations of the 180 parameters. As mentioned, the optimization output will be the model with the highest sharpe ratio. "
   ]
  },
  {
   "cell_type": "markdown",
   "metadata": {},
   "source": [
    "### TRANSFORMER MODEL FRAMEWORK"
   ]
  },
  {
   "cell_type": "code",
   "execution_count": 68,
   "metadata": {},
   "outputs": [],
   "source": [
    "import numpy as np\n",
    "import datetime\n",
    "import pandas as pd\n",
    "import matplotlib.pyplot as plt\n",
    "import warnings\n",
    "warnings.filterwarnings('ignore')\n",
    "from sklearn.model_selection import train_test_split\n",
    "import tensorflow as tf\n",
    "from sklearn.model_selection import train_test_split\n",
    "from empyrical import sharpe_ratio\n",
    "import statsmodels.api as sm\n",
    "from tensorflow import keras\n",
    "import quandl\n",
    "from sklearn.metrics import confusion_matrix, ConfusionMatrixDisplay\n",
    "import seaborn as sns\n",
    "from tqdm import tqdm\n",
    "from tensorflow.keras.losses import SparseCategoricalCrossentropy\n",
    "from tensorflow.keras.optimizers import Adam\n",
    "import random"
   ]
  },
  {
   "cell_type": "code",
   "execution_count": 69,
   "metadata": {},
   "outputs": [],
   "source": [
    "class TransformerEncoderLayer(tf.keras.layers.Layer):\n",
    "    def __init__(self, d_model, num_heads, dff, rate=0.1):\n",
    "        super(TransformerEncoderLayer, self).__init__()\n",
    "\n",
    "        self.mha = tf.keras.layers.MultiHeadAttention(num_heads=num_heads, key_dim=d_model)\n",
    "        self.dropout1 = tf.keras.layers.Dropout(rate)\n",
    "        self.layernorm1 = tf.keras.layers.LayerNormalization(epsilon=1e-6)\n",
    "\n",
    "        self.ffn = tf.keras.Sequential([\n",
    "            tf.keras.layers.Dense(dff, activation='relu'),\n",
    "            tf.keras.layers.Dense(d_model)\n",
    "        ])\n",
    "        self.dropout2 = tf.keras.layers.Dropout(rate)\n",
    "        self.layernorm2 = tf.keras.layers.LayerNormalization(epsilon=1e-6)\n",
    "\n",
    "    def call(self, inputs, training=False):\n",
    "        attn_output = self.mha(inputs, inputs)\n",
    "        attn_output = self.dropout1(attn_output, training=training)\n",
    "        out1 = self.layernorm1(inputs + attn_output)\n",
    "\n",
    "        ffn_output = self.ffn(out1)\n",
    "        ffn_output = self.dropout2(ffn_output, training=training)\n",
    "        out2 = self.layernorm2(out1 + ffn_output)\n",
    "\n",
    "        return out2\n",
    "\n",
    "class TransformerModel(tf.keras.Model):\n",
    "    def __init__(self, num_layers, d_model, num_heads, dff, input_shape, rate=0.1):\n",
    "        super(TransformerModel, self).__init__()\n",
    "\n",
    "        self.d_model = d_model\n",
    "        self.num_layers = num_layers\n",
    "\n",
    "        self.embedding = tf.keras.layers.Dense(d_model, input_shape=input_shape, name='input_embedding')\n",
    "        self.dropout = tf.keras.layers.Dropout(rate)\n",
    "\n",
    "        self.encoder_layers = [TransformerEncoderLayer(d_model, num_heads, dff, rate) for _ in range(num_layers)]\n",
    "\n",
    "        self.final_layer = tf.keras.layers.Dense(1, activation='sigmoid')\n",
    "\n",
    "    def call(self, inputs, training=False):\n",
    "        x = self.embedding(inputs)\n",
    "        x = self.dropout(x, training=training)\n",
    "\n",
    "        for i in range(self.num_layers):\n",
    "            x = self.encoder_layers[i](x, training=training)\n",
    "\n",
    "        x = self.final_layer(x)\n",
    "\n",
    "        return x\n",
    "    \n",
    "def sliding_window(arr, window_size):\n",
    "    n_rows = arr.shape[0] - window_size + 1\n",
    "    n_cols = arr.shape[1]\n",
    "    res = np.zeros((n_rows, n_cols, window_size))\n",
    "    for i in range(n_rows):\n",
    "        res[i,:,:] = arr[i:i+window_size,:].T\n",
    "    return res"
   ]
  },
  {
   "cell_type": "markdown",
   "metadata": {},
   "source": [
    "### Optimization Function"
   ]
  },
  {
   "cell_type": "code",
   "execution_count": 114,
   "metadata": {},
   "outputs": [],
   "source": [
    "def optimize(parameter_grid, opt = True):\n",
    "    tickers = ['GOOG', 'MSFT', 'AA', 'AAPL', 'F', 'GM', 'NKE', 'ORCL', 'META', 'UNH', 'LLY', 'XOM', 'CVX', 'V', 'PEP', 'KO', 'CRM', 'NVDA', 'TSLA', 'AMD' ]\n",
    "    key = 'uoxc6V3s61czWuHoGLcs'  #Your API key here for quandl\n",
    "    x = {}\n",
    "    model = \" \"\n",
    "    epochs = int(parameter_grid['epochs'])\n",
    "    batch_size = int(parameter_grid['batch_size'])\n",
    "    short_MA = int(parameter_grid['short_moving_avg'])\n",
    "    long_MA = int(parameter_grid['long_moving_avg'])\n",
    "    for ticker in (tickers):\n",
    "        df =  quandl.get_table('QUOTEMEDIA/PRICES', ticker = [ticker], api_key = key,\n",
    "                            date = { 'gte': '2010-01-01', 'lte': '2018-01-01' }, \n",
    "                            paginate=True)\n",
    "        df = df.set_index('date')\n",
    "        df = df[['adj_close', 'adj_volume']]\n",
    "\n",
    "        df[ticker + ' returns'] = (df[['adj_close']].pct_change()*100).dropna()\n",
    "\n",
    "        rolling_avg = pd.DataFrame(df['adj_close'].rolling(long_MA).mean().shift(-long_MA))\n",
    "        rolling_avg[ticker + ' Small MA'] =(df['adj_close'].rolling(short_MA).mean().shift(-short_MA))\n",
    "        data = pd.merge(df, rolling_avg, left_index=True, right_index = True)\n",
    "        data = data.dropna()\n",
    "        data = data.rename(columns = {'adj_close_x': ticker + ' price', 'adj_close_y': ticker + ' Big MA'})\n",
    "\n",
    "        trend = []\n",
    "        for i in range(len(data)):\n",
    "            small_ma_count = sum(data[ticker + \" Small MA\"].iloc[i-15:i] > data[ticker + \" Big MA\"].iloc[i-15:i])\n",
    "            if small_ma_count == 15:\n",
    "                trend.append(1)\n",
    "            else:\n",
    "                trend.append(0)\n",
    "\n",
    "        data[\"trend\"] = trend\n",
    "        data['trend'] = data['trend'].shift(-1)\n",
    "        data = data.dropna()\n",
    "        data = data[[ticker + ' returns', 'trend']]\n",
    "        x[ticker] = data\n",
    "\n",
    "    num_layers = 4\n",
    "    d_model = 64\n",
    "    num_heads = 8\n",
    "    dff = 256\n",
    "    input_shape = (None, 1)\n",
    "    rate = 0.5\n",
    "\n",
    "    # Instantiate your TransformerModel class\n",
    "    model = TransformerModel(num_layers, d_model, num_heads, dff, input_shape, rate)\n",
    "\n",
    "    # Compile your model with a binary crossentropy loss and Adam optimizer\n",
    "    model.compile(optimizer='Adam',\n",
    "                loss='binary_crossentropy',\n",
    "                metrics=['accuracy'])\n",
    "    \n",
    "    final_y = np.empty((0,1))\n",
    "    final_x = np.empty((0,1,10))\n",
    "    for ticker in tickers:\n",
    "        df = x[ticker]\n",
    "        df[ticker + ' returns'] = (df[ticker + ' returns'] - df[ticker + ' returns'].mean())/df[ticker + ' returns'].std()\n",
    "        window_size = 10\n",
    "        train_x = sliding_window(df[[ticker + ' returns']].values, window_size)\n",
    "        train_y = df['trend'].values\n",
    "        train_y = np.reshape(train_y[window_size-1:], (len(train_y)-window_size+1, 1))\n",
    "        final_y = np.concatenate((final_y, train_y), axis = 0)\n",
    "        final_x = np.concatenate((final_x, train_x), axis = 0)\n",
    "\n",
    "\n",
    "    train_size = int(len(final_x) * 0.8)\n",
    "    train_x = final_x[:train_size]\n",
    "    val_x = final_x[train_size:]\n",
    "    train_y = final_y[:train_size]\n",
    "    val_y = final_y[train_size:]\n",
    "\n",
    "\n",
    "    model.fit(train_x, train_y, validation_data=(val_x, val_y), epochs=epochs, batch_size=batch_size)\n",
    "\n",
    "    preds = model.predict(val_x)\n",
    "    last_entry = preds[:, -1, 0]\n",
    "\n",
    "    # create a pd dataframe with the last entry in each row\n",
    "    df = pd.DataFrame({'prediction': last_entry})\n",
    "    df = df.round()\n",
    "    cm = confusion_matrix(val_y, df)\n",
    "    if (df.eq(0).all().all() or df.eq(1).all().all()):\n",
    "        if opt != True:\n",
    "            print('Model is overfit, run code again')\n",
    "        return 0\n",
    "    \n",
    "\n",
    "    #get historical prices\n",
    "    historical_prices = quandl.get_table('QUOTEMEDIA/PRICES', ticker = ['AMZN'], api_key = key,\n",
    "                            date = { 'gte': '2018-01-01', 'lte': '2023-07-01' }, \n",
    "                            paginate=True)\n",
    "    historical_prices = historical_prices[['adj_close', 'date']]\n",
    "    historical_prices.columns = ['AMZN price', 'date']\n",
    "    historical_prices = historical_prices.set_index('date')\n",
    "    historical_prices['AMZN returns'] = (historical_prices[['AMZN price']].pct_change()*100).dropna()\n",
    "    historical_returns = historical_prices[['AMZN returns']]\n",
    "    historical_prices = historical_prices[['AMZN price']]\n",
    "    for ticker in (tickers):\n",
    "        if ticker != 'AMZN':\n",
    "            df =  quandl.get_table('QUOTEMEDIA/PRICES', ticker = [ticker], api_key = key,\n",
    "                                date = { 'gte': '2018-01-01', 'lte': '2023-07-01' }, \n",
    "                                paginate=True)\n",
    "            df = df[['adj_close', 'date']]\n",
    "            df.columns = [ticker + ' price', 'date']\n",
    "            df= df.set_index('date')\n",
    "            df[ticker + ' returns'] = (df[[ticker + ' price']].pct_change()*100).dropna()\n",
    "            pr = df[[ticker + ' price']]\n",
    "            df = df[[ticker + ' returns']]\n",
    "            historical_returns = pd.merge(historical_returns, df, left_index=True, right_index=True)\n",
    "            historical_prices = pd.merge(historical_prices, pr, left_index = True, right_index = True  )\n",
    "\n",
    "    #standardization\n",
    "    historical_returns = (historical_returns - historical_returns.mean()) / historical_returns.std()\n",
    "    historical_returns = historical_returns.dropna()\n",
    "\n",
    "    #miscelaneous\n",
    "    historical_returns = historical_returns.iloc[::-1]\n",
    "    historical_prices = historical_prices.iloc[::-1]\n",
    "    historical_prices = historical_prices.iloc[:-1]\n",
    "    \n",
    "    tickers.append('AMZN')\n",
    "\n",
    "    #create signals using model\n",
    "    for ticker in tickers:\n",
    "        tick_data = historical_returns[[ticker + ' returns']]\n",
    "        test = sliding_window(tick_data.values, window_size)\n",
    "        preds = model.predict(test)\n",
    "        last_entry = preds[:, -1, 0]\n",
    "        df = pd.DataFrame({'prediction': last_entry})\n",
    "        df = df.round()\n",
    "        df.index = historical_returns[9:].index\n",
    "        last_signal = 0\n",
    "        for i, row in df.iterrows():\n",
    "            if row['prediction'] == 1 and last_signal == 0:\n",
    "                # if the current value is 1 and the last signal was 0, set the signal to 1 (buy)\n",
    "                df.at[i, ticker + ' signals'] = 1\n",
    "                last_signal = 1\n",
    "            elif row['prediction'] == 0 and last_signal == 1:\n",
    "                # if the current value is 0 and the last signal was 1, set the signal to -1 (sell)\n",
    "                df.at[i, ticker + ' signals'] = -1\n",
    "                last_signal = 0\n",
    "        df = df.fillna(0)\n",
    "        df = df[str(ticker) + ' signals']\n",
    "        historical_prices = pd.merge(historical_prices,df, left_index=True, right_index = True)\n",
    "\n",
    "    portfolio = pd.DataFrame(columns = tickers)\n",
    "    portfolio = portfolio.reindex(historical_prices.index)\n",
    "    portfolio['Cash'] = 0\n",
    "    portfolio['Total Value'] = 0\n",
    "    portfolio['Date'] = portfolio.index\n",
    "    portfolio['Previous Date'] = portfolio[\"Date\"].shift(1)\n",
    "    portfolio = portfolio.fillna(0)\n",
    "\n",
    "    total_transactions = 0\n",
    "    for date in historical_prices.index:\n",
    "        if date == datetime.datetime(2018,1,16):\n",
    "            pass\n",
    "        else:\n",
    "            prev = portfolio.loc[date, 'Previous Date']\n",
    "            if date == datetime.date(2018, 1, 17):\n",
    "                portfolio.loc[date, 'Cash'] = 10_000_000\n",
    "            else:\n",
    "                portfolio.loc[date, 'Cash'] = portfolio.loc[prev, 'Cash']\n",
    "            for tick in tickers:\n",
    "                if historical_prices.loc[prev, str(tick) + ' signals'] == 1.0:\n",
    "                    total_transactions += 1\n",
    "                    if date == datetime.datetime(2018,1,17):\n",
    "                        shares_to_buy = 10_000_000/len(tickers)/historical_prices.loc[date, str(tick) + ' price']\n",
    "                    else:\n",
    "                        shares_to_buy = ((portfolio.loc[prev, 'Total Value']/(len(tickers)+5))/historical_prices.loc[date, str(tick) + ' price'])\n",
    "                    portfolio.loc[date, str(tick)] += shares_to_buy\n",
    "                    portfolio.loc[date, 'Cash'] -= (portfolio.loc[date, str(tick)]*historical_prices.loc[date, str(tick) + ' price'])\n",
    "            \n",
    "                if historical_prices.loc[prev, str(tick) + ' signals'] == 0:\n",
    "                    if date != datetime.datetime(2018,1,17):\n",
    "                        portfolio.loc[date, str(tick)] = portfolio.loc[prev, str(tick)]\n",
    "                if historical_prices.loc[prev, str(tick) + ' signals'] == -1:\n",
    "                    total_transactions += 1\n",
    "                    val = portfolio.loc[prev, str(tick)] * historical_prices.loc[date, tick + ' price']\n",
    "                    transact_cost = .002 * portfolio.loc[prev, tick]\n",
    "                    portfolio.loc[date, 'Cash'] += val - transact_cost\n",
    "                    portfolio.loc[date, tick] = 0\n",
    "                portfolio.loc[date, 'Total Value'] += (portfolio.loc[date, str(tick)]*historical_prices.loc[date, str(tick) + ' price'])\n",
    "            portfolio.loc[date, 'Total Value'] += portfolio.loc[date, 'Cash']\n",
    "    portfolio = portfolio.drop(portfolio.index[0])\n",
    "\n",
    "    spy = quandl.get_table('QUOTEMEDIA/PRICES', ticker = ['SPY'], api_key = key,\n",
    "                        date = { 'gte': '2018-01-01', 'lte': '2023-07-01' }, \n",
    "                        paginate=True)\n",
    "    spy = spy[['adj_close', 'date']]\n",
    "    spy = spy[::-1]\n",
    "    spy.index = spy['date']\n",
    "    first_day_price = spy.iloc[0]['adj_close']\n",
    "    shares = 10_000_000/first_day_price\n",
    "    spy['position'] = shares * spy['adj_close']\n",
    "\n",
    "    first_date = portfolio.index[0]\n",
    "    last_date = portfolio.index[-1]\n",
    "    spy = spy.loc[datetime.datetime(2018, 1, 17):datetime.datetime(2023, 6, 29)]\n",
    "\n",
    "    \n",
    "    portfolio['Daily Return'] = portfolio['Total Value'].pct_change()\n",
    "    sharpe = portfolio['Daily Return'].mean()/portfolio['Daily Return'].std()\n",
    "    if opt == True:\n",
    "        return sharpe\n",
    "    else:\n",
    "        return portfolio\n",
    "\n"
   ]
  },
  {
   "cell_type": "code",
   "execution_count": null,
   "metadata": {},
   "outputs": [],
   "source": [
    "param_space = {\n",
    "    'epochs': [5, 10, 15],\n",
    "    'batch_size': [16, 32, 64, 128],\n",
    "    'short_moving_avg': [5, 10, 15],\n",
    "    'long_moving_avg': [40, 45, 50, 55, 60],\n",
    "}\n",
    "\n",
    "num_random = 30\n",
    "\n",
    "sharpe = pd.DataFrame(index = range(num_random), columns = ['batch size', 'epochs', 'short MA', 'long MA', 'Sharpe'])\n",
    "for i in range(num_random):\n",
    "    params = {param: random.choice(values) for param, values in param_space.items()}\n",
    "    \n",
    "    sharpes_each = optimize(params)\n",
    "    sharpe.loc[i, 'batch_size'] = params['batch_size']\n",
    "    sharpe.loc[i, 'epochs'] = params['epochs']\n",
    "    sharpe.loc[i, 'short_moving_avg'] = params['short_moving_avg']\n",
    "    sharpe.loc[i, 'long_moving_avg'] = params['long_moving_avg']  \n",
    "    sharpe.loc[i, 'Sharpe'] = sharpes_each\n"
   ]
  },
  {
   "cell_type": "code",
   "execution_count": null,
   "metadata": {},
   "outputs": [],
   "source": [
    "sharpe = sharpe[['batch_size', 'epochs', 'short_moving_avg', 'long_moving_avg', 'Sharpe']]\n",
    "sharpe['Sharpe'] = sharpe['Sharpe'].astype(float)\n",
    "max_sharpe_row = sharpe.loc[sharpe['Sharpe'].idxmax()]\n",
    "result_dict = max_sharpe_row.to_dict()\n",
    "result_dict.pop('Sharpe', None)\n",
    "overfit = True\n",
    "# Get a non overfit model (may take a few loops to make)\n",
    "while overfit == True:\n",
    "    portfolio = optimize(result_dict, opt = False)\n",
    "    if type(portfolio) == int:\n",
    "        #reduce epochs\n",
    "        result_dict['epochs'] -= 1\n",
    "    else:\n",
    "        overfit = False"
   ]
  },
  {
   "cell_type": "markdown",
   "metadata": {},
   "source": [
    "### Optimal Parameters"
   ]
  },
  {
   "cell_type": "code",
   "execution_count": 127,
   "metadata": {},
   "outputs": [
    {
     "name": "stdout",
     "output_type": "stream",
     "text": [
      "{'batch_size': 32.0, 'epochs': 7, 'short_moving_avg': 15.0, 'long_moving_avg': 45.0}\n"
     ]
    }
   ],
   "source": [
    "print(result_dict)"
   ]
  },
  {
   "cell_type": "markdown",
   "metadata": {},
   "source": [
    "Above are the optimal parameters using our random search. The model that utilizes these parameters has been run and we will now evaluate our portfolio for the given model. Not that if the amount of epochs are not in the values tested (5, 10, 15) that is because the model won't run the same everytime, and occasionally it will entirely overfit a model output to be all trues or all false. If this happens to our optimal model, we reduce the amount of epochs and run it again."
   ]
  },
  {
   "cell_type": "markdown",
   "metadata": {},
   "source": [
    "***"
   ]
  },
  {
   "cell_type": "markdown",
   "metadata": {},
   "source": [
    "# EVALUATING BACKTESTED RESULTS"
   ]
  },
  {
   "cell_type": "code",
   "execution_count": 128,
   "metadata": {},
   "outputs": [],
   "source": [
    "spy = quandl.get_table('QUOTEMEDIA/PRICES', ticker = ['SPY'], api_key = key,\n",
    "                        date = { 'gte': '2018-01-01', 'lte': '2023-07-01' }, \n",
    "                        paginate=True)\n",
    "spy = spy[['adj_close', 'date']]\n",
    "spy = spy[::-1]\n",
    "spy.index = spy['date']\n",
    "first_day_price = spy.iloc[0]['adj_close']\n",
    "shares = 10_000_000/first_day_price\n",
    "spy['position'] = shares * spy['adj_close']\n",
    "\n",
    "first_date = portfolio.index[0]\n",
    "last_date = portfolio.index[-1]\n",
    "spy = spy.loc[datetime.datetime(2018, 1, 17):datetime.datetime(2023, 6, 29)]"
   ]
  },
  {
   "cell_type": "markdown",
   "metadata": {},
   "source": [
    "### OVERALL PORTFOLIO VALUE VS BENCHMARK"
   ]
  },
  {
   "cell_type": "code",
   "execution_count": 129,
   "metadata": {},
   "outputs": [
    {
     "data": {
      "image/png": "[encoded data removed]",
      "text/plain": [
       "<Figure size 640x480 with 1 Axes>"
      ]
     },
     "metadata": {},
     "output_type": "display_data"
    }
   ],
   "source": [
    "plt.plot(portfolio['Total Value'], label = 'Momentum')\n",
    "plt.plot(spy['position'], label = 'SPY')\n",
    "plt.title('Momentum Strategy vs SPY')\n",
    "plt.xlabel('Date')\n",
    "plt.ylabel('Position')\n",
    "plt.grid()\n",
    "plt.legend()\n",
    "plt.show()"
   ]
  },
  {
   "cell_type": "markdown",
   "metadata": {},
   "source": [
    "### METRICS"
   ]
  },
  {
   "cell_type": "code",
   "execution_count": 133,
   "metadata": {},
   "outputs": [
    {
     "data": {
      "text/html": [
       "<div>\n",
       "<style scoped>\n",
       "    .dataframe tbody tr th:only-of-type {\n",
       "        vertical-align: middle;\n",
       "    }\n",
       "\n",
       "    .dataframe tbody tr th {\n",
       "        vertical-align: top;\n",
       "    }\n",
       "\n",
       "    .dataframe thead th {\n",
       "        text-align: right;\n",
       "    }\n",
       "</style>\n",
       "<table border=\"1\" class=\"dataframe\">\n",
       "  <thead>\n",
       "    <tr style=\"text-align: right;\">\n",
       "      <th></th>\n",
       "      <th>Total Return</th>\n",
       "      <th>Max Drawdown</th>\n",
       "      <th>Sharpe Ratio</th>\n",
       "      <th>Tracking Error</th>\n",
       "      <th>Information Ratio</th>\n",
       "      <th>Market Beta</th>\n",
       "      <th>Treynor Ratio</th>\n",
       "      <th>Jensens Alpha</th>\n",
       "    </tr>\n",
       "  </thead>\n",
       "  <tbody>\n",
       "    <tr>\n",
       "      <th>Momentum</th>\n",
       "      <td>1.243786</td>\n",
       "      <td>-0.153563</td>\n",
       "      <td>0.07821</td>\n",
       "      <td>0.917992</td>\n",
       "      <td>0.569896</td>\n",
       "      <td>0.439984</td>\n",
       "      <td>2.126433</td>\n",
       "      <td>0.75413</td>\n",
       "    </tr>\n",
       "    <tr>\n",
       "      <th>Benchmark</th>\n",
       "      <td>0.720626</td>\n",
       "      <td>-0.336999</td>\n",
       "      <td>0.036487</td>\n",
       "      <td>NaN</td>\n",
       "      <td>NaN</td>\n",
       "      <td>NaN</td>\n",
       "      <td>NaN</td>\n",
       "      <td>NaN</td>\n",
       "    </tr>\n",
       "  </tbody>\n",
       "</table>\n",
       "</div>"
      ],
      "text/plain": [
       "          Total Return Max Drawdown Sharpe Ratio Tracking Error  \\\n",
       "Momentum      1.243786    -0.153563      0.07821       0.917992   \n",
       "Benchmark     0.720626    -0.336999     0.036487            NaN   \n",
       "\n",
       "          Information Ratio Market Beta Treynor Ratio Jensens Alpha  \n",
       "Momentum           0.569896    0.439984      2.126433       0.75413  \n",
       "Benchmark               NaN         NaN           NaN           NaN  "
      ]
     },
     "execution_count": 133,
     "metadata": {},
     "output_type": "execute_result"
    }
   ],
   "source": [
    "first_date = portfolio.index[0]\n",
    "last_date = portfolio.index[-1]\n",
    "spy = spy.loc[datetime.datetime(2018, 1, 17):datetime.datetime(2023, 6, 29)]\n",
    "metrics = pd.DataFrame(index = ['Momentum', 'Benchmark'], columns = ['Total Return',  'Max Drawdown', 'Sharpe Ratio', 'Tracking Error', 'Information Ratio', 'Market Beta', 'Treynor Ratio', 'Jensens Alpha'])\n",
    "metrics.loc['Momentum', 'Total Return'] = (portfolio.loc[last_date, 'Total Value'] - portfolio.loc[first_date, 'Total Value'])/portfolio.loc[first_date, 'Total Value']\n",
    "metrics.loc['Benchmark', 'Total Return'] = (spy.loc[last_date, 'position'] - spy.loc[first_date, 'position'])/spy.loc[first_date, 'position']\n",
    "portfolio['Cumulative Max'] = portfolio['Total Value'].cummax()\n",
    "portfolio['Drawdown'] = (portfolio['Total Value'] - portfolio['Cumulative Max'])/portfolio['Cumulative Max']\n",
    "spy['Cumulative Max'] = spy['position'].cummax()\n",
    "spy['Drawdown'] = (spy['position'] - spy['Cumulative Max'])/spy['Cumulative Max']\n",
    "metrics.loc['Momentum','Max Drawdown'] = portfolio['Drawdown'].min()\n",
    "metrics.loc['Benchmark', 'Max Drawdown'] = spy['Drawdown'].min()\n",
    "portfolio['Daily Return'] = portfolio['Total Value'].pct_change()\n",
    "metrics.loc['Momentum','Sharpe Ratio'] = portfolio['Daily Return'].mean()/portfolio['Daily Return'].std()\n",
    "spy['Daily Return'] = spy['position'].pct_change()\n",
    "metrics.loc['Benchmark','Sharpe Ratio'] = spy['Daily Return'].mean()/spy['Daily Return'].std()\n",
    "metrics.loc['Momentum', 'Tracking Error'] = (portfolio['Daily Return'] - spy['Daily Return']).std() * 100\n",
    "metrics.loc['Momentum', 'Information Ratio'] = (metrics.loc['Momentum', 'Total Return'] - metrics.loc['Benchmark', 'Total Return'])/(metrics.loc['Momentum', 'Tracking Error'])\n",
    "X = sm.add_constant(spy['Daily Return'].fillna(0))\n",
    "y = portfolio['Daily Return'].fillna(0)\n",
    "model = sm.OLS(y,X).fit()\n",
    "metrics.loc['Momentum', 'Market Beta'] = model.params['Daily Return']\n",
    "rf = .30819\n",
    "metrics.loc['Momentum', 'Treynor Ratio'] = (metrics.loc['Momentum', 'Total Return'] - rf)/metrics.loc['Momentum', 'Market Beta']\n",
    "metrics.loc['Momentum', 'Jensens Alpha'] = metrics.loc['Momentum', 'Total Return'] - (rf + metrics.loc['Momentum', 'Market Beta']*(metrics.loc['Benchmark', 'Total Return'] - rf))\n",
    "\n",
    "metrics"
   ]
  },
  {
   "cell_type": "code",
   "execution_count": 134,
   "metadata": {},
   "outputs": [
    {
     "data": {
      "image/png": "[encoded data removed]",
      "text/plain": [
       "<Figure size 640x480 with 1 Axes>"
      ]
     },
     "metadata": {},
     "output_type": "display_data"
    }
   ],
   "source": [
    "plt.plot(portfolio['Total Value'] - spy['position'])\n",
    "plt.title('Momentum Portfolio Minus SPY Portfolio')\n",
    "plt.ylabel('Difference in Portfolio')\n",
    "plt.xlabel('Date')\n",
    "plt.grid()"
   ]
  },
  {
   "cell_type": "markdown",
   "metadata": {},
   "source": [
    "An interesting point of note from these two graphs is that the momentum strategy greatly outperformed the benchmark during the beginning of 2020, aka when covid was effecting the market. My intuition on this is that since the model is looking to define uptrends, it is never outputting any uptrend predictions during times of turmoil and therefore stops trading, while the S&P benchmark has no choice. During 'steady' times and times of growth the momentum strategy seems to have quite similar results to the benchmark."
   ]
  },
  {
   "cell_type": "code",
   "execution_count": 136,
   "metadata": {},
   "outputs": [
    {
     "data": {
      "text/html": [
       "<div>\n",
       "<style scoped>\n",
       "    .dataframe tbody tr th:only-of-type {\n",
       "        vertical-align: middle;\n",
       "    }\n",
       "\n",
       "    .dataframe tbody tr th {\n",
       "        vertical-align: top;\n",
       "    }\n",
       "\n",
       "    .dataframe thead th {\n",
       "        text-align: right;\n",
       "    }\n",
       "</style>\n",
       "<table border=\"1\" class=\"dataframe\">\n",
       "  <thead>\n",
       "    <tr style=\"text-align: right;\">\n",
       "      <th></th>\n",
       "      <th>Skewness</th>\n",
       "      <th>Kurtosis</th>\n",
       "      <th>VaR (0.05)</th>\n",
       "      <th>CVaR (0.05)</th>\n",
       "    </tr>\n",
       "  </thead>\n",
       "  <tbody>\n",
       "    <tr>\n",
       "      <th>Daily Return</th>\n",
       "      <td>-0.88012</td>\n",
       "      <td>10.87279</td>\n",
       "      <td>-0.011379</td>\n",
       "      <td>-0.01871</td>\n",
       "    </tr>\n",
       "  </tbody>\n",
       "</table>\n",
       "</div>"
      ],
      "text/plain": [
       "              Skewness  Kurtosis  VaR (0.05)  CVaR (0.05)\n",
       "Daily Return  -0.88012  10.87279   -0.011379     -0.01871"
      ]
     },
     "execution_count": 136,
     "metadata": {},
     "output_type": "execute_result"
    }
   ],
   "source": [
    "def tailMetrics(returns, quantile=.05, relative=False, mdd=True):\n",
    "    metrics = pd.DataFrame(index=returns.columns)\n",
    "    metrics['Skewness'] = returns.skew()\n",
    "    metrics['Kurtosis'] = returns.kurtosis()\n",
    "\n",
    "    VaR = returns.quantile(quantile)\n",
    "    CVaR = (returns[returns < returns.quantile(quantile)]).mean()\n",
    "\n",
    "    if relative:\n",
    "        VaR = (VaR - returns.mean())/returns.std()\n",
    "        CVaR = (CVaR - returns.mean())/returns.std()\n",
    "\n",
    "    metrics[f'VaR ({quantile})'] = VaR\n",
    "    metrics[f'CVaR ({quantile})'] = CVaR\n",
    "    return metrics\n",
    "\n",
    "tailMetrics(portfolio[['Daily Return']])"
   ]
  },
  {
   "cell_type": "markdown",
   "metadata": {},
   "source": [
    "As mentioned, this strategy seems somewhat safer than the benchmark and doesn't seem to have too steep of drawdowns. The VaR or value at risk for daily returns with a .05 quantile is -.011 which is not a super scary or detrimental return. Conditional VaR is a slightly lower and more extreme return yet still less than a 2% drawdown in one day."
   ]
  },
  {
   "cell_type": "markdown",
   "metadata": {},
   "source": [
    "***"
   ]
  }
 ],
 "metadata": {
  "kernelspec": {
   "display_name": "Python 3",
   "language": "python",
   "name": "python3"
  },
  "language_info": {
   "codemirror_mode": {
    "name": "ipython",
    "version": 3
   },
   "file_extension": ".py",
   "mimetype": "text/x-python",
   "name": "python",
   "nbconvert_exporter": "python",
   "pygments_lexer": "ipython3",
   "version": "3.11.2"
  },
  "orig_nbformat": 4
 },
 "nbformat": 4,
 "nbformat_minor": 2
}
